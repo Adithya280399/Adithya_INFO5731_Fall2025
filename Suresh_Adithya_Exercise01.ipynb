{
  "cells": [
    {
      "cell_type": "markdown",
      "metadata": {
        "id": "DymRJbxDBCnf"
      },
      "source": [
        "# **INFO5731 Assiginment 1**\n",
        "\n",
        "This exercise covers a variety of fundamental concepts in Python and is designed to help students improve their coding skills and problem-solving abilities.\n",
        "\n",
        "**Expectations**:\n",
        "*   Students are expected to complete the exercise during lecture period to meet the active participation criteria of the course.\n",
        "*   Use the provided .*ipynb* document to write your code & respond to the questions. Avoid generating a new file.\n",
        "*   Write complete answers and run all the cells before submission.\n",
        "*   Make sure the submission is \"clean\"; *i.e.*, no unnecessary code cells.\n",
        "*   Once finished, allow shared rights from top right corner (*see Canvas for details*).\n",
        "\n",
        "**Total points**: 100\n",
        "\n",
        "**Deadline**: This Assiginment-1 is due by Sunday Midnight\n",
        "\n",
        "**Late submissions cannot be considered, and no requests will be answered. Manage your time accordingly.**\n"
      ]
    },
    {
      "cell_type": "markdown",
      "source": [
        "## Question 1\n",
        "Write a Python program that  prompts the user to input the length and width of a rectangle, and then calculates and displays the area of the rectangle."
      ],
      "metadata": {
        "id": "FBKvD6O_TY6e"
      }
    },
    {
      "cell_type": "code",
      "source": [
        "# write your answer here\n",
        "length = float(input(\"Enter the value for the length of the rectangle:\"))\n",
        "width = float(input(\"Enter the value for the width of the rectangle\"))\n",
        "area = length*width\n",
        "print(\"The area of the reactangle is:\",area)"
      ],
      "metadata": {
        "id": "cikVKDXdTbzE",
        "colab": {
          "base_uri": "https://localhost:8080/"
        },
        "outputId": "14065b41-4772-4150-b28d-38db3fbe7724"
      },
      "execution_count": 1,
      "outputs": [
        {
          "output_type": "stream",
          "name": "stdout",
          "text": [
            "Enter the value for the length of the rectangle:10\n",
            "Enter the value for the width of the rectangle15\n",
            "The area of the reactangle is: 150.0\n"
          ]
        }
      ]
    },
    {
      "cell_type": "markdown",
      "source": [
        "## Question 2\n",
        "Create a Python program that interactively takes two numerical inputs from the user and swaps their values without utilizing an extra variable."
      ],
      "metadata": {
        "id": "E9RqrlwdTfvl"
      }
    },
    {
      "cell_type": "code",
      "source": [
        "# write your answer here\n",
        "num1 = float(input(\"Enter the value for the first number:\"))\n",
        "num2 = float(input(\"Enter the value for the second number:\"))\n",
        "num1,num2 = num2,num1\n",
        "print(\"The swapped values are:\",num1,num2)"
      ],
      "metadata": {
        "id": "4XvRknixTh1g",
        "colab": {
          "base_uri": "https://localhost:8080/"
        },
        "outputId": "8660be78-1d2f-417b-9e82-d6a22380d7d8"
      },
      "execution_count": 6,
      "outputs": [
        {
          "output_type": "stream",
          "name": "stdout",
          "text": [
            "Enter the value for the first number:45\n",
            "Enter the value for the second number:25\n",
            "The swapped values are: 25.0 45.0\n"
          ]
        }
      ]
    },
    {
      "cell_type": "markdown",
      "metadata": {
        "id": "03jb4GZsBkBS"
      },
      "source": [
        "## Question 3\n",
        "Write a Python script to determine and print the length of a user-input string."
      ]
    },
    {
      "cell_type": "code",
      "execution_count": 4,
      "metadata": {
        "id": "YaGLbSHHB8Ej",
        "colab": {
          "base_uri": "https://localhost:8080/"
        },
        "outputId": "06600da0-048f-43ff-af7f-3431d70bbe92"
      },
      "outputs": [
        {
          "output_type": "stream",
          "name": "stdout",
          "text": [
            "Enter a string:adithya\n",
            "The length of the string is: 7\n"
          ]
        }
      ],
      "source": [
        "# write your answer here\n",
        "input_string = input(\"Enter a string:\")\n",
        "length = len(input_string)\n",
        "print(\"The length of the string is:\",length)"
      ]
    },
    {
      "cell_type": "markdown",
      "metadata": {
        "id": "jJDe71iLB616"
      },
      "source": [
        "## Question 4\n",
        "Construct a Python program that counts and displays the occurrences of each character in a given string.\n",
        "\n",
        "Sample String: 'openai.ai',\n",
        "\n",
        "Expected Result: {'a': 2, 'i': 2, '.': 1, 'o': 1, 'p': 1, 'e': 1, 'n': 1}"
      ]
    },
    {
      "cell_type": "code",
      "execution_count": 5,
      "metadata": {
        "id": "MtKskTzbCLaU",
        "colab": {
          "base_uri": "https://localhost:8080/"
        },
        "outputId": "bb9c2020-5409-43a1-becf-1f26ca96ce09"
      },
      "outputs": [
        {
          "output_type": "stream",
          "name": "stdout",
          "text": [
            "Enter a string:adithya\n",
            "character cuurence: {'a': 2, 'd': 1, 'i': 1, 't': 1, 'h': 1, 'y': 1}\n"
          ]
        }
      ],
      "source": [
        "# write your answer here\n",
        "string = input(\"Enter a string:\")\n",
        "char_count = {}\n",
        "for char in string:\n",
        "  if char in char_count:\n",
        "    char_count[char] += 1\n",
        "  else:\n",
        "    char_count[char] = 1\n",
        "print('character cuurence:', char_count)"
      ]
    },
    {
      "cell_type": "markdown",
      "metadata": {
        "id": "55W9AMdXCSpV"
      },
      "source": [
        "## Question 5\n",
        "Design a Python code to calculate the sum of all elements in a user-provided lists."
      ]
    },
    {
      "cell_type": "code",
      "execution_count": 27,
      "metadata": {
        "id": "I57NXsauCec2",
        "colab": {
          "base_uri": "https://localhost:8080/"
        },
        "outputId": "001f448f-eb5b-44df-a4df-b0bd21b5ffcc"
      },
      "outputs": [
        {
          "output_type": "stream",
          "name": "stdout",
          "text": [
            "Enter numbers separated by commas: 1,2,3\n",
            "The total sum of the list elements is: 6\n"
          ]
        }
      ],
      "source": [
        "# write your answer here\n",
        "user_data = input(\"Enter numbers separated by commas: \")\n",
        "\n",
        "numbers = [int(item.strip()) for item in user_data.split(\",\")]\n",
        "index = 0\n",
        "total_sum = 0\n",
        "while index < len(numbers):\n",
        "    total_sum = total_sum + numbers[index]\n",
        "    index = index + 1\n",
        "print(\"The total sum of the list elements is:\", total_sum)"
      ]
    },
    {
      "cell_type": "markdown",
      "metadata": {
        "id": "4ulBZ6yhCi9F"
      },
      "source": [
        "## Question 6\n",
        "Write a Python program that modifies a given string by replacing all occurrences of its first character with '$', excluding the first character itself.\n",
        "\n",
        "\n",
        "Sample String : 'restart‘\n",
        "Expected Result : 'resta\\$t'"
      ]
    },
    {
      "cell_type": "code",
      "execution_count": 13,
      "metadata": {
        "id": "Fj0XhwbBCw2o",
        "colab": {
          "base_uri": "https://localhost:8080/"
        },
        "outputId": "4a6bb6b0-acae-40fa-aa5e-deda99ff6086"
      },
      "outputs": [
        {
          "output_type": "stream",
          "name": "stdout",
          "text": [
            "Enter a string:adithya\n",
            "Modified string: adithy$\n"
          ]
        }
      ],
      "source": [
        "# write your answer here\n",
        "string = input(\"Enter a string:\")\n",
        "first_char = string[0]\n",
        "modified_string = first_char + string[1:].replace(first_char, '$')\n",
        "print(\"Modified string:\", modified_string)"
      ]
    },
    {
      "cell_type": "markdown",
      "source": [
        "## Question 7\n",
        "Write a Python program using a while loop to compute the factorial of a user-supplied number."
      ],
      "metadata": {
        "id": "qVXA3q7ET5JI"
      }
    },
    {
      "cell_type": "code",
      "source": [
        "# write your answer here\n",
        "number = int(input(\"Enter a number:\"))\n",
        "factorial = 1\n",
        "current_number = 1\n",
        "while current_number <= number:\n",
        "  factorial *= current_number\n",
        "  current_number += 1\n",
        "print(\"The factorial of\", number, \"is\", factorial)"
      ],
      "metadata": {
        "id": "Lbt7R6UkT7BA",
        "colab": {
          "base_uri": "https://localhost:8080/"
        },
        "outputId": "973f7697-bcb7-4246-ef2d-447da7e37d24"
      },
      "execution_count": 14,
      "outputs": [
        {
          "output_type": "stream",
          "name": "stdout",
          "text": [
            "Enter a number:5\n",
            "The factorial of 5 is 120\n"
          ]
        }
      ]
    },
    {
      "cell_type": "markdown",
      "source": [
        "## Question 8\n",
        "Create a program that accepts a lists of numbers as input and outputs a new lists containing only the even numbers."
      ],
      "metadata": {
        "id": "6YfbzXMNT--R"
      }
    },
    {
      "cell_type": "code",
      "source": [
        "# write your answer here\n",
        "num = int(input(\"Enter a non-negative integer: \"))\n",
        "factorial = 1\n",
        "counter = num\n",
        "while counter > 1:\n",
        "    factorial = factorial * counter\n",
        "    counter = counter - 1\n",
        "print(f\"The factorial of {num} is: {factorial}\")"
      ],
      "metadata": {
        "id": "54q7wMQPUAKu",
        "colab": {
          "base_uri": "https://localhost:8080/"
        },
        "outputId": "5fd565a5-05ba-4f66-9978-0f9a4f347020"
      },
      "execution_count": 29,
      "outputs": [
        {
          "output_type": "stream",
          "name": "stdout",
          "text": [
            "Enter a non-negative integer: 25\n",
            "The factorial of 25 is: 15511210043330985984000000\n"
          ]
        }
      ]
    },
    {
      "cell_type": "markdown",
      "metadata": {
        "id": "_bIP7s1MCzue"
      },
      "source": [
        "## Question 9\n",
        "Design a Python function to check if a number is prime.\n"
      ]
    },
    {
      "cell_type": "code",
      "execution_count": 16,
      "metadata": {
        "id": "w79QilHXD3Mg",
        "colab": {
          "base_uri": "https://localhost:8080/"
        },
        "outputId": "57efaaff-e0b3-4006-f7a7-5190d10e7a2d"
      },
      "outputs": [
        {
          "output_type": "stream",
          "name": "stdout",
          "text": [
            "Enter a number:2\n",
            "2 is a prime number\n"
          ]
        }
      ],
      "source": [
        "# write your answer here\n",
        "number = int(input(\"Enter a number:\"))\n",
        "if (number % i) == 0:\n",
        "  print(number, \"is not a prime number\")\n",
        "else:\n",
        "    print(number, \"is a prime number\")\n"
      ]
    },
    {
      "cell_type": "markdown",
      "metadata": {
        "id": "xCa2bK9aD4Q3"
      },
      "source": [
        "## Question 10\n",
        "Write a Python program to concatenate following dictionaries to create a new one.\n",
        "\n",
        "Sample Dictionary : dic1={1:10, 2:20}, dic2={3:30, 4:40}, dic3={5:50,6:60},\n",
        "\n",
        "Expected Result : {1: 10, 2: 20, 3: 30, 4: 40, 5: 50, 6: 60}\n"
      ]
    },
    {
      "cell_type": "code",
      "execution_count": 17,
      "metadata": {
        "id": "_z4aLqAbEET1",
        "colab": {
          "base_uri": "https://localhost:8080/"
        },
        "outputId": "d3738913-3210-49a4-a71b-da00c79eeb02"
      },
      "outputs": [
        {
          "output_type": "stream",
          "name": "stdout",
          "text": [
            "{1: 10, 2: 20, 3: 30, 4: 40, 5: 50, 6: 60}\n"
          ]
        }
      ],
      "source": [
        "# write your answer here\n",
        "dict1 = {1: 10, 2: 20}\n",
        "dic2 = {3: 30, 4: 40}\n",
        "dic3 = {5: 50, 6: 60}\n",
        "result = {}\n",
        "result.update(dict1)\n",
        "result.update(dic2)\n",
        "result.update(dic3)\n",
        "print(result)"
      ]
    },
    {
      "cell_type": "markdown",
      "source": [
        "## Question 11\n",
        "Design a Python function that takes a tuple of integers as input and returns the largest and smallest elements."
      ],
      "metadata": {
        "id": "bkyZ2xSZUOst"
      }
    },
    {
      "cell_type": "code",
      "source": [
        "# write your answer here\n",
        "def find_largest_smallest(numbers):\n",
        "  largest = max(numbers)\n",
        "  smallest = min(numbers)\n",
        "  return largest, smallest\n",
        "numbers = tuple(map(int, input(\"Enter numbers separated by spaces: \").split()))\n",
        "largest, smallest = find_largest_smallest(numbers)\n",
        "print(\"Largest element:\", largest)\n",
        "print(\"Smallest element:\", smallest)"
      ],
      "metadata": {
        "id": "3FdLRBKOUQEd",
        "colab": {
          "base_uri": "https://localhost:8080/"
        },
        "outputId": "98335143-a91a-4121-db76-8db04e328a34"
      },
      "execution_count": 18,
      "outputs": [
        {
          "output_type": "stream",
          "name": "stdout",
          "text": [
            "Enter numbers separated by spaces: 1 2 3 4 4 5 5 8 9 \n",
            "Largest element: 9\n",
            "Smallest element: 1\n"
          ]
        }
      ]
    },
    {
      "cell_type": "markdown",
      "source": [
        "## Question 12\n",
        "Write a Python program that counts the frequency of each character in a given string and stores it in a dictionary."
      ],
      "metadata": {
        "id": "O0TVi3gKUTpp"
      }
    },
    {
      "cell_type": "code",
      "source": [
        "# write your answer here\n",
        "string = input(\"Enter a string:\")\n",
        "char_count = {}\n",
        "for char in string:\n",
        "  if char in char_count:\n",
        "    char_count[char] += 1\n",
        "  else:\n",
        "    char_count[char] = 1\n",
        "print('character cuurence:', char_count)"
      ],
      "metadata": {
        "id": "lAtfSfZXUU-h",
        "colab": {
          "base_uri": "https://localhost:8080/"
        },
        "outputId": "0f1368f1-de14-4978-c8e9-525b74ba1207"
      },
      "execution_count": 19,
      "outputs": [
        {
          "output_type": "stream",
          "name": "stdout",
          "text": [
            "Enter a string:ADITHYA\n",
            "character cuurence: {'A': 2, 'D': 1, 'I': 1, 'T': 1, 'H': 1, 'Y': 1}\n"
          ]
        }
      ]
    },
    {
      "cell_type": "markdown",
      "metadata": {
        "id": "0v48Vqa7FrQh"
      },
      "source": [
        "## Question 13\n",
        "Implement a Python script to identify duplicate elements in a provided array of integers. Return -1 if there are no duplicates."
      ]
    },
    {
      "cell_type": "code",
      "execution_count": 28,
      "metadata": {
        "id": "7WEmgq-DF2P1",
        "colab": {
          "base_uri": "https://localhost:8080/"
        },
        "outputId": "c1ebd1b9-e2cf-4c27-fa86-7a7c5e54ba4b"
      },
      "outputs": [
        {
          "output_type": "stream",
          "name": "stdout",
          "text": [
            "Array: [3, 7, 2, 3, 9, 7, 5]\n",
            "Duplicates found: [3, 7]\n"
          ]
        }
      ],
      "source": [
        "# write your answer here\n",
        "def find_duplicates(arr):\n",
        "    duplicates = []\n",
        "    length = len(arr)\n",
        "    i = 0\n",
        "    while i < length:\n",
        "        j = i + 1\n",
        "        while j < length:\n",
        "            if arr[i] == arr[j] and arr[i] not in duplicates:\n",
        "                duplicates.append(arr[i])\n",
        "            j += 1\n",
        "        i += 1\n",
        "    if len(duplicates) == 0:\n",
        "        return -1\n",
        "    else:\n",
        "        return duplicates\n",
        "\n",
        "data = [3, 7, 2, 3, 9, 7, 5]\n",
        "result = find_duplicates(data)\n",
        "\n",
        "print(\"Array:\", data)\n",
        "print(\"Duplicates found:\", result)"
      ]
    },
    {
      "cell_type": "markdown",
      "metadata": {
        "id": "vD5PYLMuGga_"
      },
      "source": [
        "## Question 14\n",
        "Write a Python script to find the common elements between two lists."
      ]
    },
    {
      "cell_type": "code",
      "execution_count": 30,
      "metadata": {
        "id": "t0D5kdJUGjjw",
        "colab": {
          "base_uri": "https://localhost:8080/"
        },
        "outputId": "25a0f00a-70d6-47ae-d0c8-7fe7cdc43ce9"
      },
      "outputs": [
        {
          "output_type": "stream",
          "name": "stdout",
          "text": [
            "First list: [1, 2, 3, 4, 5]\n",
            "Second list: [3, 5, 7, 9, 1]\n",
            "Common elements: [1, 3, 5]\n"
          ]
        }
      ],
      "source": [
        "# write your answer here\n",
        "def find_common(list1, list2):\n",
        "    commons = []\n",
        "    i = 0\n",
        "    while i < len(list1):\n",
        "        j = 0\n",
        "        while j < len(list2):\n",
        "            if list1[i] == list2[j] and list1[i] not in commons:\n",
        "                commons.append(list1[i])\n",
        "            j += 1\n",
        "        i += 1\n",
        "    return commons\n",
        "\n",
        "list_a = [1, 2, 3, 4, 5]\n",
        "list_b = [3, 5, 7, 9, 1]\n",
        "\n",
        "result = find_common(list_a, list_b)\n",
        "\n",
        "print(\"First list:\", list_a)\n",
        "print(\"Second list:\", list_b)\n",
        "print(\"Common elements:\", result)\n"
      ]
    },
    {
      "cell_type": "markdown",
      "metadata": {
        "id": "uHkd-y5VhVWC"
      },
      "source": [
        "## Question 15\n",
        "Write a Python program to randomly divide the students in this class into maximum of eight groups for term projects, each group should have at least 4 students but no more than 6 students (including 6).\n",
        "\n",
        "Here is the students list:\n",
        "\n",
        "student_list_spring_2024=[rb0846,\n",
        "ac1964,\n",
        "hc0612,\n",
        "md0912,\n",
        "ad1198,\n",
        "md0894,\n",
        "md0825,\n",
        "vg0598,\n",
        "vg0433,\n",
        "mh1068,\n",
        "yj0173,\n",
        "pk0553,\n",
        "tk0411,\n",
        "srk0204,\n",
        "sk2922,\n",
        "sk2936,\n",
        "mk1302,\n",
        "mk1317,\n",
        "tk0412,\n",
        "vk0656,\n",
        "sm2985,\n",
        "mm2372,\n",
        "un0045,\n",
        "an0892,\n",
        "sn0913,\n",
        "gp0252,\n",
        "ap1484,\n",
        "mr1765,\n",
        "sr1385,\n",
        "sr1335,\n",
        "hs0665,\n",
        "ms2060,\n",
        "gt0217,\n",
        "nt0385,\n",
        "tv0186,\n",
        "sv1394,\n",
        "sv1752,\n",
        "sv1555,\n",
        "sy0594\n",
        "]\n"
      ]
    },
    {
      "cell_type": "code",
      "execution_count": 7,
      "metadata": {
        "id": "3iGbmcOBhTwy",
        "colab": {
          "base_uri": "https://localhost:8080/"
        },
        "outputId": "8aa330c5-05e2-42c0-99b1-b03be683138e"
      },
      "outputs": [
        {
          "output_type": "stream",
          "name": "stdout",
          "text": [
            "Group 1 (4 students): ['sr1385', 'tk0411', 'sv1752', 'an0892']\n",
            "Group 2 (4 students): ['pk0553', 'tv0186', 'mk1302', 'hc0612']\n",
            "Group 3 (6 students): ['mk1317', 'srk0204', 'vk0656', 'vg0433', 'ad1198', 'mm2372']\n",
            "Group 4 (6 students): ['sr1335', 'ap1484', 'sk2936', 'sv1394', 'sn0913', 'ms2060']\n",
            "Group 5 (6 students): ['mh1068', 'nt0385', 'md0825', 'tk0412', 'yj0173', 'sv1555']\n",
            "Group 6 (5 students): ['gt0217', 'vg0598', 'mr1765', 'md0894', 'rb0846']\n",
            "Group 7 (4 students): ['sk2922', 'hs0665', 'sm2985', 'un0045']\n",
            "Group 8 (4 students): ['ac1964', 'gp0252', 'sy0594', 'md0912']\n"
          ]
        }
      ],
      "source": [
        "# write your answer here\n",
        "import random\n",
        "\n",
        "# Student list\n",
        "student_list_spring_2024 = [\n",
        "    \"rb0846\",\"ac1964\",\"hc0612\",\"md0912\",\"ad1198\",\"md0894\",\"md0825\",\"vg0598\",\n",
        "    \"vg0433\",\"mh1068\",\"yj0173\",\"pk0553\",\"tk0411\",\"srk0204\",\"sk2922\",\"sk2936\",\n",
        "    \"mk1302\",\"mk1317\",\"tk0412\",\"vk0656\",\"sm2985\",\"mm2372\",\"un0045\",\"an0892\",\n",
        "    \"sn0913\",\"gp0252\",\"ap1484\",\"mr1765\",\"sr1385\",\"sr1335\",\"hs0665\",\"ms2060\",\n",
        "    \"gt0217\",\"nt0385\",\"tv0186\",\"sv1394\",\"sv1752\",\"sv1555\",\"sy0594\"\n",
        "]\n",
        "\n",
        "# Shuffle for randomness\n",
        "random.shuffle(student_list_spring_2024)\n",
        "\n",
        "groups = []\n",
        "remaining = student_list_spring_2024[:]\n",
        "\n",
        "# Divide into maximum of 8 groups\n",
        "for i in range(8):\n",
        "    if not remaining:\n",
        "        break\n",
        "\n",
        "    # Ensure valid group sizes\n",
        "    min_size = max(4, len(remaining) - (6 * (7 - i)))\n",
        "    max_size = min(6, len(remaining) - (4 * (7 - i)))\n",
        "\n",
        "    size = random.randint(min_size, max_size)\n",
        "    group, remaining = remaining[:size], remaining[size:]\n",
        "    groups.append(group)\n",
        "\n",
        "for idx, g in enumerate(groups, 1):\n",
        "    print(f\"Group {idx} ({len(g)} students): {g}\")"
      ]
    },
    {
      "cell_type": "markdown",
      "metadata": {
        "id": "fmZ9vX20Qs3d"
      },
      "source": [
        "## Question 16\n",
        "Create a program that takes a positive integer 'n' as input and prints the count of even numbers from 1 to 'n'. Optimize the loop using the continue statement."
      ]
    },
    {
      "cell_type": "code",
      "execution_count": 6,
      "metadata": {
        "id": "W8Jw6sWMQs3d",
        "colab": {
          "base_uri": "https://localhost:8080/"
        },
        "outputId": "41ccb9b8-c86e-41bc-b2e0-e9dc78afcf45"
      },
      "outputs": [
        {
          "output_type": "stream",
          "name": "stdout",
          "text": [
            "Enter a positive integer: 22\n",
            "Number of even numbers between 1 and 22: 11\n"
          ]
        }
      ],
      "source": [
        "# write your answer here\n",
        "n = int(input(\"Enter a positive integer: \"))\n",
        "count = 0\n",
        "\n",
        "for i in range(1, n+1):\n",
        "    if i % 2 != 0:\n",
        "        continue\n",
        "    count += 1\n",
        "\n",
        "print(f\"Number of even numbers between 1 and {n}:\", count)"
      ]
    },
    {
      "cell_type": "markdown",
      "metadata": {
        "id": "hvq4APMhQs3d"
      },
      "source": [
        "## Question 17\n",
        "Develop a Python function called 'count_vowels' that takes a string as input and returns the count of vowels (both lowercase and uppercase) present in the string, ignoring spaces and non-alphabetic characters."
      ]
    },
    {
      "cell_type": "code",
      "execution_count": 5,
      "metadata": {
        "id": "ZnoxhSglQs3d",
        "colab": {
          "base_uri": "https://localhost:8080/"
        },
        "outputId": "00c9c2e6-ac1d-4b40-cd56-46e5080ee64a"
      },
      "outputs": [
        {
          "output_type": "stream",
          "name": "stdout",
          "text": [
            "Enter a string: adithya\n",
            "Number of vowels: 3\n"
          ]
        }
      ],
      "source": [
        "# write your answer here\n",
        "def count_vowels(text):\n",
        "    vowels = \"aeiouAEIOU\"\n",
        "    return sum(1 for ch in text if ch in vowels)\n",
        "\n",
        "s = input(\"Enter a string: \")\n",
        "print(\"Number of vowels:\", count_vowels(s))"
      ]
    },
    {
      "cell_type": "markdown",
      "source": [
        "## Question 18\n",
        "Create a custom exception named ValueTooSmallError in Python. Write a program that takes user input for an age, and if the entered age is less than 18, raise the ValueTooSmallError with an appropriate error message."
      ],
      "metadata": {
        "id": "55FWoSJPVVM6"
      }
    },
    {
      "cell_type": "code",
      "source": [
        "# write your answer here\n",
        "class ValueTooSmallError(Exception):\n",
        "    pass\n",
        "\n",
        "try:\n",
        "    age = int(input(\"Enter your age: \"))\n",
        "    if age < 18:\n",
        "        raise ValueTooSmallError(\"Age must be at least 18.\")\n",
        "    print(\"Valid age entered:\", age)\n",
        "except ValueTooSmallError as e:\n",
        "    print(\"Error:\", e)"
      ],
      "metadata": {
        "id": "hwtr1wZmVX5A",
        "colab": {
          "base_uri": "https://localhost:8080/"
        },
        "outputId": "aa6ca670-57a5-4a5b-c5c3-ed7898a1cf60"
      },
      "execution_count": 4,
      "outputs": [
        {
          "output_type": "stream",
          "name": "stdout",
          "text": [
            "Enter your age: 15\n",
            "Error: Age must be at least 18.\n"
          ]
        }
      ]
    },
    {
      "cell_type": "markdown",
      "source": [
        "## Question 19\n",
        "Develop a script that reverses a given string without using built-in reverse functions."
      ],
      "metadata": {
        "id": "Q9ecagcaVazW"
      }
    },
    {
      "cell_type": "code",
      "source": [
        "# write your answer here\n",
        "s = input(\"Enter a string: \")\n",
        "reversed_str = \"\"\n",
        "for ch in s:\n",
        "    reversed_str = ch + reversed_str\n",
        "\n",
        "print(\"Reversed string:\", reversed_str)"
      ],
      "metadata": {
        "id": "gycgckoAVZjR",
        "colab": {
          "base_uri": "https://localhost:8080/"
        },
        "outputId": "a3cea1d2-0609-41fc-d99f-97303004a39a"
      },
      "execution_count": 1,
      "outputs": [
        {
          "output_type": "stream",
          "name": "stdout",
          "text": [
            "Enter a string: adithya\n",
            "Reversed string: ayhtida\n"
          ]
        }
      ]
    },
    {
      "cell_type": "markdown",
      "source": [
        "## Question 20\n",
        "Implement a Python script to generate a random password of a specified length."
      ],
      "metadata": {
        "id": "ZFG6RibifMLu"
      }
    },
    {
      "cell_type": "code",
      "source": [
        "# write your answer here\n",
        "import random\n",
        "import string\n",
        "\n",
        "length = int(input(\"Enter the pass length: \"))\n",
        "characters = string.ascii_letters + string.digits + string.punctuation\n",
        "password = \"\".join(random.choice(characters) for _ in range(length))\n",
        "print(\"Generated Pass:\", password)"
      ],
      "metadata": {
        "id": "BFVrkEi9fNiD",
        "colab": {
          "base_uri": "https://localhost:8080/"
        },
        "outputId": "29a0994c-62b9-45f5-d96d-983def26227b"
      },
      "execution_count": 4,
      "outputs": [
        {
          "output_type": "stream",
          "name": "stdout",
          "text": [
            "Enter the desired password length: 5\n",
            "Generated Password: aUzh!\n"
          ]
        }
      ]
    },
    {
      "cell_type": "markdown",
      "source": [
        "# Try these questions"
      ],
      "metadata": {
        "id": "6SmvS7nSfbj8"
      }
    },
    {
      "cell_type": "markdown",
      "source": [
        "(21) Define a base class called 'Vehicle' with attributes make and model. Create a derived class Car that inherits from Vehicle and has an additional attribute 'num_doors'. Demonstrate an example of creating an instance of the 'Car' class and accessing its attributes."
      ],
      "metadata": {
        "id": "cboAr5pEWUf5"
      }
    },
    {
      "cell_type": "code",
      "source": [
        "# write your answer here\n",
        "class Vehicle:\n",
        "    def __init__(self, make, model):\n",
        "        self.make = make\n",
        "        self.model = model\n",
        "class Car(Vehicle):\n",
        "    def __init__(self, make, model, num_doors):\n",
        "        super().__init__(make, model)  # call base class constructor\n",
        "        self.num_doors = num_doors\n",
        "my_car = Car(\"Toyota\", \"Corolla\", 4)\n",
        "\n",
        "print(\"Make:\", my_car.make)\n",
        "print(\"Model:\", my_car.model)\n",
        "print(\"Number of doors:\", my_car.num_doors)"
      ],
      "metadata": {
        "id": "phs9gciMWWAW",
        "colab": {
          "base_uri": "https://localhost:8080/"
        },
        "outputId": "db70c7d2-565c-45b9-f45c-9931ec887d0b"
      },
      "execution_count": 1,
      "outputs": [
        {
          "output_type": "stream",
          "name": "stdout",
          "text": [
            "Make: Toyota\n",
            "Model: Corolla\n",
            "Number of doors: 4\n"
          ]
        }
      ]
    },
    {
      "cell_type": "markdown",
      "source": [
        "(22) Create a class called 'Shape' with a method calculate_area(). Implement two derived classes 'Circle' and 'Rectangle' that inherit from Shape and override the calculate_area() method. Demonstrate polymorphism by creating instances of both derived classes and calling the calculate_area() method."
      ],
      "metadata": {
        "id": "J8HHefNtePwd"
      }
    },
    {
      "cell_type": "code",
      "source": [
        "# write your answer here\n",
        "import math\n",
        "#base class\n",
        "class Shape:\n",
        "    def calculate_area(self):\n",
        "        return 0\n",
        "class Circle(Shape):\n",
        "    def __init__(self, radius):\n",
        "        self.radius = radius\n",
        "\n",
        "    def calculate_area(self):\n",
        "        return math.pi * (self.radius ** 2)\n",
        "\n",
        "class Rectangle(Shape):\n",
        "    def __init__(self, length, width):\n",
        "        self.length = length\n",
        "        self.width = width\n",
        "\n",
        "    def calculate_area(self):\n",
        "        return self.length * self.width\n",
        "\n",
        "shapes = [Circle(5), Rectangle(4, 6)]\n",
        "\n",
        "for s in shapes:\n",
        "    print(f\"Area: {s.calculate_area():.2f}\")\n",
        ""
      ],
      "metadata": {
        "id": "btnMmUZDeRhS",
        "colab": {
          "base_uri": "https://localhost:8080/"
        },
        "outputId": "64cff7b3-86f7-4066-dcb1-d364b0c774b5"
      },
      "execution_count": 5,
      "outputs": [
        {
          "output_type": "stream",
          "name": "stdout",
          "text": [
            "Area: 78.54\n",
            "Area: 24.00\n"
          ]
        }
      ]
    },
    {
      "cell_type": "markdown",
      "source": [
        "(23) Write a Python program that prompts the user to enter two numbers and perform a division operation. Handle exceptions for both zero division and invalid input (non-numeric input). Display appropriate error messages for each type of exception and ensure the program does not crash due to these errors."
      ],
      "metadata": {
        "id": "z0oqEAlTeMUS"
      }
    },
    {
      "cell_type": "code",
      "source": [
        "# write your answer here\n",
        "try:\n",
        "    num1 = float(input(\"Enter first number: \"))\n",
        "    num2 = float(input(\"Enter second number: \"))\n",
        "\n",
        "    result = num1 / num2\n",
        "    print(f\"Result: {result}\")\n",
        "\n",
        "except ZeroDivisionError:\n",
        "    print(\"Error: Division by zero is not allowed.\")\n",
        "except ValueError:\n",
        "    print(\"Error: Please enter valid numeric values.\")"
      ],
      "metadata": {
        "id": "yjdc1zM1eMAs",
        "colab": {
          "base_uri": "https://localhost:8080/"
        },
        "outputId": "1f1076ac-a506-4457-ca6a-31382e04dac7"
      },
      "execution_count": 3,
      "outputs": [
        {
          "output_type": "stream",
          "name": "stdout",
          "text": [
            "Enter first number: 5\n",
            "Enter second number: 0\n",
            "Error: Division by zero is not allowed.\n"
          ]
        }
      ]
    },
    {
      "cell_type": "markdown",
      "source": [
        "# Mandatory Question"
      ],
      "metadata": {
        "id": "sZOhks1dXWEe"
      }
    },
    {
      "cell_type": "markdown",
      "source": [
        "**Important:**\n",
        "Reflecting on the first three lectures and the exercises you've completed, please provide feedback on your learning experience. Share your thoughts on whether the material covered was clear, the exercises were helpful, and if you feel more confident in applying Python programming concepts. Additionally, mention any specific areas where you would like more clarification or topics you would like to explore further in future lectures. Your feedback is valuable in shaping the course for an effective learning journey."
      ],
      "metadata": {
        "id": "eqmHVEwaWhbV"
      }
    },
    {
      "cell_type": "markdown",
      "source": [],
      "metadata": {
        "id": "hD0-GmryiDO-"
      }
    },
    {
      "cell_type": "markdown",
      "source": [
        "**I am a person with java background so taking the classs from the python basics eases my transistion to python a bit easy, rest I am yet to hang of it but the exercise goes from the basics so i feel comfortable so far**"
      ],
      "metadata": {
        "id": "_rNGC_CViJxk"
      }
    },
    {
      "cell_type": "markdown",
      "source": [
        "Google Collab link - https://colab.research.google.com/drive/1VGFxLdLlFvjOubenyX85jRGPwCLbQind?usp=sharing"
      ],
      "metadata": {
        "id": "2VHGKZFzlul6"
      }
    }
  ],
  "metadata": {
    "colab": {
      "provenance": []
    },
    "kernelspec": {
      "display_name": "Python 3 (ipykernel)",
      "language": "python",
      "name": "python3"
    },
    "language_info": {
      "codemirror_mode": {
        "name": "ipython",
        "version": 3
      },
      "file_extension": ".py",
      "mimetype": "text/x-python",
      "name": "python",
      "nbconvert_exporter": "python",
      "pygments_lexer": "ipython3",
      "version": "3.9.12"
    }
  },
  "nbformat": 4,
  "nbformat_minor": 0
}