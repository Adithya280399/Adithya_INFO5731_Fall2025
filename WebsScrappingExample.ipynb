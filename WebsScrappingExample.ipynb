{
  "nbformat": 4,
  "nbformat_minor": 0,
  "metadata": {
    "colab": {
      "provenance": [],
      "authorship_tag": "ABX9TyPwBP+JgkDGSECteJPQbbDy",
      "include_colab_link": true
    },
    "kernelspec": {
      "name": "python3",
      "display_name": "Python 3"
    },
    "language_info": {
      "name": "python"
    }
  },
  "cells": [
    {
      "cell_type": "markdown",
      "metadata": {
        "id": "view-in-github",
        "colab_type": "text"
      },
      "source": [
        "<a href=\"https://colab.research.google.com/github/Adithya280399/Adithya_INFO5731_Fall2025/blob/main/WebsScrappingExample.ipynb\" target=\"_parent\"><img src=\"https://colab.research.google.com/assets/colab-badge.svg\" alt=\"Open In Colab\"/></a>"
      ]
    },
    {
      "cell_type": "code",
      "execution_count": 1,
      "metadata": {
        "colab": {
          "base_uri": "https://localhost:8080/"
        },
        "id": "N41U8FnUztzw",
        "outputId": "80ee8767-463a-4935-f0b4-f512ea6ff4ca"
      },
      "outputs": [
        {
          "output_type": "stream",
          "name": "stdout",
          "text": [
            "[]\n"
          ]
        }
      ],
      "source": [
        "import requests\n",
        "from bs4 import BeautifulSoup\n",
        "\n",
        "url = \"https://supreme.justia.com/cases/federal/us/year/2025.html\"\n",
        "response = requests.get(url)\n",
        "soup = BeautifulSoup(response.text, \"html.parser\")\n",
        "\n",
        "# Extract product titles\n",
        "titles = [item.text for item in soup.find_all(\"h2\", class_=\"product-title\")]\n",
        "\n",
        "print(titles)\n"
      ]
    },
    {
      "cell_type": "code",
      "source": [
        "!pip install requests beautifulsoup4\n"
      ],
      "metadata": {
        "colab": {
          "base_uri": "https://localhost:8080/"
        },
        "id": "bh853cx-1cTx",
        "outputId": "477c2711-c091-4b68-afce-dcaa925cdadf"
      },
      "execution_count": 3,
      "outputs": [
        {
          "output_type": "stream",
          "name": "stdout",
          "text": [
            "Requirement already satisfied: requests in /usr/local/lib/python3.12/dist-packages (2.32.4)\n",
            "Requirement already satisfied: beautifulsoup4 in /usr/local/lib/python3.12/dist-packages (4.13.5)\n",
            "Requirement already satisfied: charset_normalizer<4,>=2 in /usr/local/lib/python3.12/dist-packages (from requests) (3.4.3)\n",
            "Requirement already satisfied: idna<4,>=2.5 in /usr/local/lib/python3.12/dist-packages (from requests) (3.10)\n",
            "Requirement already satisfied: urllib3<3,>=1.21.1 in /usr/local/lib/python3.12/dist-packages (from requests) (2.5.0)\n",
            "Requirement already satisfied: certifi>=2017.4.17 in /usr/local/lib/python3.12/dist-packages (from requests) (2025.8.3)\n",
            "Requirement already satisfied: soupsieve>1.2 in /usr/local/lib/python3.12/dist-packages (from beautifulsoup4) (2.8)\n",
            "Requirement already satisfied: typing-extensions>=4.0.0 in /usr/local/lib/python3.12/dist-packages (from beautifulsoup4) (4.15.0)\n"
          ]
        }
      ]
    },
    {
      "cell_type": "code",
      "source": [
        "import requests\n",
        "from bs4 import BeautifulSoup\n",
        "import json\n",
        "import re\n",
        "\n",
        "# Target URL\n",
        "url = \"https://supreme.justia.com/cases/federal/us/year/2025.html\"\n",
        "\n",
        "# HTTP request headers\n",
        "headers = {\n",
        "    \"User-Agent\": \"Mozilla/5.0 (Windows NT 10.0; Win64; x64)\"\n",
        "}\n",
        "\n",
        "# Request the main page\n",
        "response = requests.get(url, headers=headers)\n",
        "response.encoding = 'utf-8'\n",
        "\n",
        "# Parse HTML\n",
        "soup = BeautifulSoup(response.text, 'html.parser')\n",
        "\n",
        "# Container for all cases\n",
        "cases = []\n",
        "\n",
        "# Find all case entries\n",
        "case_divs = soup.select(\"#main-content > div > div.primary-content > div.wrapper.jcard.has-padding-30.blocks.has-no-bottom-padding > div.results.zebra.has-negative-sides-30.-overflow-hidden > div\")\n",
        "\n",
        "for case in case_divs:\n",
        "    try:\n",
        "        case_title_tag = case.select_one(\"div:nth-child(1)\")\n",
        "        docket_number_tag = case.select_one(\"strong:nth-child(3)\")\n",
        "\n",
        "        case_title = case_title_tag.get_text(strip=True) if case_title_tag else \"\"\n",
        "        docket_number = docket_number_tag.get_text(strip=True) if docket_number_tag else \"\"\n",
        "\n",
        "        # Court name, Date (may need to adjust if available)\n",
        "        court_name = \"\"\n",
        "        date = \"\"\n",
        "\n",
        "        # Case URL\n",
        "        case_url_tag = case.find(\"a\", href=True)\n",
        "        case_url = f\"https://supreme.justia.com{case_url_tag['href']}\" if case_url_tag else \"\"\n",
        "\n",
        "        # Fetch summary from case page\n",
        "        summary = \"\"\n",
        "        if case_url:\n",
        "            case_response = requests.get(case_url, headers=headers)\n",
        "            case_soup = BeautifulSoup(case_response.text, 'html.parser')\n",
        "            summary_tag = case_soup.select_one(\"div#main-content\")\n",
        "            if summary_tag:\n",
        "                summary = summary_tag.get_text(strip=True)\n",
        "\n",
        "        # Clean undesirable symbols\n",
        "        case_title = re.sub(r'[\\n\\t\\r]', ' ', case_title)\n",
        "        docket_number = re.sub(r'[\\n\\t\\r]', ' ', docket_number)\n",
        "        summary = re.sub(r'[\\n\\t\\r]', ' ', summary)\n",
        "\n",
        "        cases.append({\n",
        "            \"case_title\": case_title,\n",
        "            \"docket_number\": docket_number,\n",
        "            \"court_name\": court_name,\n",
        "            \"date\": date,\n",
        "            \"case_url\": case_url,\n",
        "            \"justia_opinion_summary\": summary\n",
        "        })\n",
        "\n",
        "    except Exception as e:\n",
        "        print(f\"Error processing a case: {e}\")\n",
        "\n",
        "# Save to JSON\n",
        "with open(\"supreme_court_2025.json\", \"w\", encoding='utf-8') as f:\n",
        "    json.dump(cases, f, indent=4, ensure_ascii=False)\n",
        "\n",
        "print(f\"Scraped {len(cases)} cases and saved to supreme_court_2025.json\")\n"
      ],
      "metadata": {
        "colab": {
          "base_uri": "https://localhost:8080/"
        },
        "id": "CTwJeOKa0ieF",
        "outputId": "2a539b74-053b-4321-b557-45fb042f33b4"
      },
      "execution_count": 14,
      "outputs": [
        {
          "output_type": "stream",
          "name": "stdout",
          "text": [
            "Scraped 63 cases and saved to supreme_court_2025.json\n"
          ]
        }
      ]
    },
    {
      "cell_type": "code",
      "source": [
        "from google.colab import files\n",
        "files.download(\"supreme_court_2025.json\")\n"
      ],
      "metadata": {
        "colab": {
          "base_uri": "https://localhost:8080/",
          "height": 17
        },
        "id": "9_6EJ2yR2Boc",
        "outputId": "dc8b8662-2838-423e-a352-480c05a52103"
      },
      "execution_count": 15,
      "outputs": [
        {
          "output_type": "display_data",
          "data": {
            "text/plain": [
              "<IPython.core.display.Javascript object>"
            ],
            "application/javascript": [
              "\n",
              "    async function download(id, filename, size) {\n",
              "      if (!google.colab.kernel.accessAllowed) {\n",
              "        return;\n",
              "      }\n",
              "      const div = document.createElement('div');\n",
              "      const label = document.createElement('label');\n",
              "      label.textContent = `Downloading \"${filename}\": `;\n",
              "      div.appendChild(label);\n",
              "      const progress = document.createElement('progress');\n",
              "      progress.max = size;\n",
              "      div.appendChild(progress);\n",
              "      document.body.appendChild(div);\n",
              "\n",
              "      const buffers = [];\n",
              "      let downloaded = 0;\n",
              "\n",
              "      const channel = await google.colab.kernel.comms.open(id);\n",
              "      // Send a message to notify the kernel that we're ready.\n",
              "      channel.send({})\n",
              "\n",
              "      for await (const message of channel.messages) {\n",
              "        // Send a message to notify the kernel that we're ready.\n",
              "        channel.send({})\n",
              "        if (message.buffers) {\n",
              "          for (const buffer of message.buffers) {\n",
              "            buffers.push(buffer);\n",
              "            downloaded += buffer.byteLength;\n",
              "            progress.value = downloaded;\n",
              "          }\n",
              "        }\n",
              "      }\n",
              "      const blob = new Blob(buffers, {type: 'application/binary'});\n",
              "      const a = document.createElement('a');\n",
              "      a.href = window.URL.createObjectURL(blob);\n",
              "      a.download = filename;\n",
              "      div.appendChild(a);\n",
              "      a.click();\n",
              "      div.remove();\n",
              "    }\n",
              "  "
            ]
          },
          "metadata": {}
        },
        {
          "output_type": "display_data",
          "data": {
            "text/plain": [
              "<IPython.core.display.Javascript object>"
            ],
            "application/javascript": [
              "download(\"download_b8baf7e6-c12f-4fb8-854b-7b0c4627301a\", \"supreme_court_2025.json\", 5735508)"
            ]
          },
          "metadata": {}
        }
      ]
    },
    {
      "cell_type": "code",
      "source": [
        "files.download(\"supreme_court_2025.json\")\n"
      ],
      "metadata": {
        "colab": {
          "base_uri": "https://localhost:8080/",
          "height": 17
        },
        "id": "bQRQWFBg2FoR",
        "outputId": "576ab2f9-95d3-433c-d976-45822f8ded8f"
      },
      "execution_count": 7,
      "outputs": [
        {
          "output_type": "display_data",
          "data": {
            "text/plain": [
              "<IPython.core.display.Javascript object>"
            ],
            "application/javascript": [
              "\n",
              "    async function download(id, filename, size) {\n",
              "      if (!google.colab.kernel.accessAllowed) {\n",
              "        return;\n",
              "      }\n",
              "      const div = document.createElement('div');\n",
              "      const label = document.createElement('label');\n",
              "      label.textContent = `Downloading \"${filename}\": `;\n",
              "      div.appendChild(label);\n",
              "      const progress = document.createElement('progress');\n",
              "      progress.max = size;\n",
              "      div.appendChild(progress);\n",
              "      document.body.appendChild(div);\n",
              "\n",
              "      const buffers = [];\n",
              "      let downloaded = 0;\n",
              "\n",
              "      const channel = await google.colab.kernel.comms.open(id);\n",
              "      // Send a message to notify the kernel that we're ready.\n",
              "      channel.send({})\n",
              "\n",
              "      for await (const message of channel.messages) {\n",
              "        // Send a message to notify the kernel that we're ready.\n",
              "        channel.send({})\n",
              "        if (message.buffers) {\n",
              "          for (const buffer of message.buffers) {\n",
              "            buffers.push(buffer);\n",
              "            downloaded += buffer.byteLength;\n",
              "            progress.value = downloaded;\n",
              "          }\n",
              "        }\n",
              "      }\n",
              "      const blob = new Blob(buffers, {type: 'application/binary'});\n",
              "      const a = document.createElement('a');\n",
              "      a.href = window.URL.createObjectURL(blob);\n",
              "      a.download = filename;\n",
              "      div.appendChild(a);\n",
              "      a.click();\n",
              "      div.remove();\n",
              "    }\n",
              "  "
            ]
          },
          "metadata": {}
        },
        {
          "output_type": "display_data",
          "data": {
            "text/plain": [
              "<IPython.core.display.Javascript object>"
            ],
            "application/javascript": [
              "download(\"download_30a0300d-1f0e-4c1c-bff9-d6ece31168ca\", \"supreme_court_2025.json\", 2)"
            ]
          },
          "metadata": {}
        }
      ]
    }
  ]
}